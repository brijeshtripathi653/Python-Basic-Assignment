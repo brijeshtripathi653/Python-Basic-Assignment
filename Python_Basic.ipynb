{
  "cells": [
    {
      "cell_type": "markdown",
      "metadata": {
        "id": "6GMMwygmETKQ"
      },
      "source": [
        "# Python Basics Questions"
      ]
    },
    {
      "cell_type": "markdown",
      "metadata": {
        "id": "XSe3mDOEx4Xb"
      },
      "source": [
        "1. What is Python, and why is it popular?\n",
        "\n",
        "  -  Python is a high-level programming language, it is easy-to learn programming language as used for web developement, data science, A.I and more.\n",
        "\n",
        "\n",
        "  * Why is it so popular?\n",
        "    -  easy to Learn for biggener's.\n",
        "    -  Powerful libraries - for data ai web etc.\n",
        "    - can be easily run in any platform. like., :- Windows, Mac, Linux etc.\n",
        "    - its best for beginners"
      ]
    },
    {
      "cell_type": "markdown",
      "metadata": {
        "id": "EVlXpSDV1GEQ"
      },
      "source": [
        "2. What is an interpreter in Python?\n",
        "\n",
        "  -  An interpreter in Python is a program that reads and executed python code one line at a time. It doesn’t convert the whole code at once like a compiler. Instead, it checks each line, translates it, and runs it immediately."
      ]
    },
    {
      "cell_type": "markdown",
      "metadata": {
        "id": "SB9GYQ8u2esD"
      },
      "source": [
        "3. What are pre-defined keywords in Python?\n",
        "\n",
        " - Pre-defined keywords in Python are special reserved words that have specific meanings and uses in the language.You cannot use them as variable names, function names, or identifiers. Examples include if, else, while, for, def, class, and import. They help Python understand the structure and flow of your code.\n"
      ]
    },
    {
      "cell_type": "markdown",
      "metadata": {
        "id": "5Z7iz3HI3PHH"
      },
      "source": [
        "4. Can keywords be used as variable names?\n",
        "\n",
        "  -  No, keywords cannot be used as variable names in Python. Since keywords have special meanings in the language (like if, while, def), using them as variable names will cause a syntax error."
      ]
    },
    {
      "cell_type": "markdown",
      "metadata": {
        "id": "5ck5bp7A32JM"
      },
      "source": [
        "5. What is mutability in Python?\n",
        "\n",
        "  - Mutability in Python means whether you can change the value of something after creating it.\n",
        "\n",
        " If something is mutable, like a list, you can change it later (add, remove items).\n",
        "\n",
        " If it’s immutable, like a string or number, you can’t change it — if you try, Python makes a new one instead."
      ]
    },
    {
      "cell_type": "markdown",
      "metadata": {
        "id": "OFN6Kx8v447z"
      },
      "source": [
        "6. Why are lists mutable, but tuples are immutable?\n",
        "\n",
        "  -  Lists are mutable because It’s all about design and purpose in Python’s data structures. they’re made to store and change data easily — we can add, remove.\n",
        "\n",
        "  Tuples are immutable because they’re made to protect data. Once a tuple is created, it stays the same. This makes them faster and safer for fixed data."
      ]
    },
    {
      "cell_type": "markdown",
      "metadata": {
        "id": "4iFEMSVo5pqx"
      },
      "source": [
        "7. What is the difference between “==” and “is” operators in Python?\n",
        "\n",
        "  - In Python:\n",
        "\n",
        "   == checks if two values are equal (it compares the actual data inside).\n",
        "\n",
        "   Example: 5 == 5 is True.\n",
        "\n",
        "   is checks if two variables point to the same object in memory.\n",
        "\n",
        "   Example: a is b is True only if a and b are the exact same object.\n",
        "\n",
        "   So, == checks value, is checks identity.\n"
      ]
    },
    {
      "cell_type": "markdown",
      "metadata": {
        "id": "M1gmIQjO6fC9"
      },
      "source": [
        "8. What are logical operators in Python?\n",
        "\n",
        "\n",
        "  -  Logical operators in Python are used to combine multiple conditions or expressions. They return either True or False based on the logic. There are three main logical operators:\n",
        "\n",
        "and – Returns True if both conditions are true.\n",
        "Example: 5 > 2 and 3 < 4 → True\n",
        "\n",
        "or – Returns True if at least one condition is true.\n",
        "Example: 5 > 10 or 3 < 4 → True\n",
        "\n",
        "not – Reverses the result.\n",
        "Example: not True → False\n",
        "\n",
        "They are used mostly in if statements and decision-making."
      ]
    },
    {
      "cell_type": "markdown",
      "metadata": {
        "id": "qOoKlgMP7RFL"
      },
      "source": [
        "9. What is type casting in Python?\n",
        "\n",
        "  -  Type casting in Python means changing a value from one data type to another, like turning a number into a string or a string into a number. It helps when you're working with different kinds of data and need them to match.\n",
        "\n",
        "There are two types:\n",
        "\n",
        "  Implicit casting, which Python does on its own during calculations.\n",
        "\n",
        "  Explicit casting, where you manually change the type using functions like int(), float(), str(), or bool().\n",
        "\n",
        "Type casting is important for avoiding errors and making sure your data behaves the way you want in a program."
      ]
    },
    {
      "cell_type": "markdown",
      "metadata": {
        "id": "hiGCKOJK8MeS"
      },
      "source": [
        "10. What is the difference between implicit and explicit type casting?\n",
        "\n",
        "  -  Implicit and explicit type casting are two ways to change data types in Python:\n",
        "\n",
        "  *  Implicit type casting is done automatically by Python. It happens when Python safely converts one type to another during operations (like converting an int to a float).\n",
        "\n",
        "  *  Explicit type casting is done manually by the programmer using functions like int(), float(), or str().\n",
        "\n",
        " Hance, implicit = Python’s choice, explicit = your choice."
      ]
    },
    {
      "cell_type": "markdown",
      "metadata": {
        "id": "8JlUwyPQAehd"
      },
      "source": [
        "11. What is the purpose of conditional statements in Python?\n",
        "\n",
        "  -  The purpose of conditional statements in Python is to allow your program to make decisions and take different actions based on specific conditions.\n",
        "\n",
        "They help your code respond to different situations instead of just running straight from top to bottom. For example, if a user enters a certain input, the program can decide what to do next—like showing a message, running a calculation, or stopping the program.\n",
        "\n",
        "Python uses keywords like if, elif (else if), and else to create these conditions. These statements check whether a condition is true or false and then execute the related block of code.\n",
        "\n",
        "Without conditional statements, all programs would behave the same way every time, no matter the input or situation. With them, your programs become dynamic, smart, and interactive—just like real-world decision-making."
      ]
    },
    {
      "cell_type": "markdown",
      "metadata": {
        "id": "8y5q7KfDBJAx"
      },
      "source": [
        "12. How does the elif statement work?\n",
        "\n",
        "  -  The elif statement in Python means \"else if\". It is used when you want to check multiple conditions one after another.\n",
        "\n",
        "     Here’s how it works:\n",
        "\n",
        "     First, Python checks the if condition.\n",
        "\n",
        "     If if is true, it runs that block and skips everything else.\n",
        "\n",
        "     If if is false, it checks the elif condition.\n",
        "\n",
        "     If elif is true, it runs that block.\n",
        "\n",
        "     If none of the if or elif conditions are true, then the else block (if present) runs.\n",
        "\n",
        "    \n",
        "\n",
        "So, elif helps you add more choices to your decision-making in code."
      ]
    },
    {
      "cell_type": "markdown",
      "metadata": {
        "id": "fOetmbAfB8-o"
      },
      "source": [
        "13. What is the difference between for and while loops?\n",
        "\n",
        "  -  The difference between for and while loops in Python is in how they repeat code:\n",
        "\n",
        "A for loop is used when you know in advance how many times you want to run the loop. It goes through a sequence (like a list or range) one item at a time.\n",
        "\n",
        "A while loop is used when you don’t know exactly how many times to repeat something. It keeps running as long as a condition is true.\n",
        "\n",
        "In short:\n",
        "for = repeat a set number of times\n",
        "while = repeat until a condition becomes false."
      ]
    },
    {
      "cell_type": "markdown",
      "metadata": {
        "id": "_pQYmlOgCpAz"
      },
      "source": [
        "14. Describe a scenario where a while loop is more suitable than a for loop.\n",
        "\n",
        "-  A while loop is more suitable when you don’t know beforehand how many times the loop should run — you just want it to keep going until a condition changes.\n",
        "\n",
        "Example scenario:\n",
        "You’re asking a user to enter the correct password. You don’t know how many tries they’ll need, so you keep asking until they enter the right one. In this case, a while loop is perfect because it runs as long as the entered password is wrong, and stops only when the condition becomes false (i.e., the correct password is entered)."
      ]
    },
    {
      "cell_type": "markdown",
      "metadata": {
        "id": "xmcFriyCEK11"
      },
      "source": [
        "# Python Practical Questions"
      ]
    },
    {
      "cell_type": "markdown",
      "metadata": {
        "id": "i6-RXe_qExDv"
      },
      "source": [
        "1. Write a Python program to print \"Hello, World!\""
      ]
    },
    {
      "cell_type": "code",
      "execution_count": 2,
      "metadata": {
        "colab": {
          "base_uri": "https://localhost:8080/"
        },
        "id": "cs5VaqUmEmB6",
        "outputId": "ce1784e8-7117-4c7e-b4bd-e0d8a3be401d"
      },
      "outputs": [
        {
          "name": "stdout",
          "output_type": "stream",
          "text": [
            "hello world\n"
          ]
        }
      ],
      "source": [
        "print('hello world')"
      ]
    },
    {
      "cell_type": "markdown",
      "metadata": {
        "id": "9r6iNYHuFVn1"
      },
      "source": [
        "2. Write a Python program that displays your name and age."
      ]
    },
    {
      "cell_type": "code",
      "execution_count": 3,
      "metadata": {
        "id": "46tCl2IAFLpQ"
      },
      "outputs": [],
      "source": [
        "name= 'Mr. Brijesh kumar tripathil'\n",
        "age= '28'"
      ]
    },
    {
      "cell_type": "markdown",
      "metadata": {
        "id": "YfHs16bhGtwX"
      },
      "source": [
        "3. Write code to print all the pre-defined keywords in Python using the keyword library."
      ]
    },
    {
      "cell_type": "code",
      "execution_count": null,
      "metadata": {
        "id": "qqkXY-xvGr79"
      },
      "outputs": [],
      "source": [
        "print(\"keywords in python are\")\n",
        "import keyword\n",
        "print(keyword.kwlist)"
      ]
    },
    {
      "cell_type": "markdown",
      "metadata": {
        "id": "_HNHzWxDHvBm"
      },
      "source": [
        "4. Write a program that checks if a given word is a Python keyword."
      ]
    },
    {
      "cell_type": "code",
      "execution_count": null,
      "metadata": {
        "id": "EyDiDZs1Hpv9"
      },
      "outputs": [],
      "source": [
        "import keyword\n",
        "\n",
        "word = input(\"Enter a word: \")\n",
        "\n",
        "if keyword.iskeyword(word):\n",
        "    print(f\"'{word}' is a Python keyword.\")\n",
        "else:\n",
        "    print(f\"'{word}' is not a Python keyword.\")\n",
        "\n"
      ]
    },
    {
      "cell_type": "code",
      "execution_count": 8,
      "metadata": {
        "colab": {
          "base_uri": "https://localhost:8080/",
          "height": 304
        },
        "id": "V5EZiM4ReGt_",
        "outputId": "6ca3bc10-f3e3-4ce8-bcdc-3c27f94066a4"
      },
      "outputs": [
        {
          "ename": "MessageError",
          "evalue": "Error: credential propagation was unsuccessful",
          "output_type": "error",
          "traceback": [
            "\u001b[0;31m---------------------------------------------------------------------------\u001b[0m",
            "\u001b[0;31mMessageError\u001b[0m                              Traceback (most recent call last)",
            "\u001b[0;32m/tmp/ipython-input-8-1408506528.py\u001b[0m in \u001b[0;36m<cell line: 0>\u001b[0;34m()\u001b[0m\n\u001b[1;32m      1\u001b[0m \u001b[0;32mfrom\u001b[0m \u001b[0mgoogle\u001b[0m\u001b[0;34m.\u001b[0m\u001b[0mcolab\u001b[0m \u001b[0;32mimport\u001b[0m \u001b[0mdrive\u001b[0m\u001b[0;34m\u001b[0m\u001b[0;34m\u001b[0m\u001b[0m\n\u001b[0;32m----> 2\u001b[0;31m \u001b[0mdrive\u001b[0m\u001b[0;34m.\u001b[0m\u001b[0mmount\u001b[0m\u001b[0;34m(\u001b[0m\u001b[0;34m'/content/drive'\u001b[0m\u001b[0;34m)\u001b[0m\u001b[0;34m\u001b[0m\u001b[0;34m\u001b[0m\u001b[0m\n\u001b[0m",
            "\u001b[0;32m/usr/local/lib/python3.11/dist-packages/google/colab/drive.py\u001b[0m in \u001b[0;36mmount\u001b[0;34m(mountpoint, force_remount, timeout_ms, readonly)\u001b[0m\n\u001b[1;32m     98\u001b[0m \u001b[0;32mdef\u001b[0m \u001b[0mmount\u001b[0m\u001b[0;34m(\u001b[0m\u001b[0mmountpoint\u001b[0m\u001b[0;34m,\u001b[0m \u001b[0mforce_remount\u001b[0m\u001b[0;34m=\u001b[0m\u001b[0;32mFalse\u001b[0m\u001b[0;34m,\u001b[0m \u001b[0mtimeout_ms\u001b[0m\u001b[0;34m=\u001b[0m\u001b[0;36m120000\u001b[0m\u001b[0;34m,\u001b[0m \u001b[0mreadonly\u001b[0m\u001b[0;34m=\u001b[0m\u001b[0;32mFalse\u001b[0m\u001b[0;34m)\u001b[0m\u001b[0;34m:\u001b[0m\u001b[0;34m\u001b[0m\u001b[0;34m\u001b[0m\u001b[0m\n\u001b[1;32m     99\u001b[0m   \u001b[0;34m\"\"\"Mount your Google Drive at the specified mountpoint path.\"\"\"\u001b[0m\u001b[0;34m\u001b[0m\u001b[0;34m\u001b[0m\u001b[0m\n\u001b[0;32m--> 100\u001b[0;31m   return _mount(\n\u001b[0m\u001b[1;32m    101\u001b[0m       \u001b[0mmountpoint\u001b[0m\u001b[0;34m,\u001b[0m\u001b[0;34m\u001b[0m\u001b[0;34m\u001b[0m\u001b[0m\n\u001b[1;32m    102\u001b[0m       \u001b[0mforce_remount\u001b[0m\u001b[0;34m=\u001b[0m\u001b[0mforce_remount\u001b[0m\u001b[0;34m,\u001b[0m\u001b[0;34m\u001b[0m\u001b[0;34m\u001b[0m\u001b[0m\n",
            "\u001b[0;32m/usr/local/lib/python3.11/dist-packages/google/colab/drive.py\u001b[0m in \u001b[0;36m_mount\u001b[0;34m(mountpoint, force_remount, timeout_ms, ephemeral, readonly)\u001b[0m\n\u001b[1;32m    135\u001b[0m   )\n\u001b[1;32m    136\u001b[0m   \u001b[0;32mif\u001b[0m \u001b[0mephemeral\u001b[0m\u001b[0;34m:\u001b[0m\u001b[0;34m\u001b[0m\u001b[0;34m\u001b[0m\u001b[0m\n\u001b[0;32m--> 137\u001b[0;31m     _message.blocking_request(\n\u001b[0m\u001b[1;32m    138\u001b[0m         \u001b[0;34m'request_auth'\u001b[0m\u001b[0;34m,\u001b[0m\u001b[0;34m\u001b[0m\u001b[0;34m\u001b[0m\u001b[0m\n\u001b[1;32m    139\u001b[0m         \u001b[0mrequest\u001b[0m\u001b[0;34m=\u001b[0m\u001b[0;34m{\u001b[0m\u001b[0;34m'authType'\u001b[0m\u001b[0;34m:\u001b[0m \u001b[0;34m'dfs_ephemeral'\u001b[0m\u001b[0;34m}\u001b[0m\u001b[0;34m,\u001b[0m\u001b[0;34m\u001b[0m\u001b[0;34m\u001b[0m\u001b[0m\n",
            "\u001b[0;32m/usr/local/lib/python3.11/dist-packages/google/colab/_message.py\u001b[0m in \u001b[0;36mblocking_request\u001b[0;34m(request_type, request, timeout_sec, parent)\u001b[0m\n\u001b[1;32m    174\u001b[0m       \u001b[0mrequest_type\u001b[0m\u001b[0;34m,\u001b[0m \u001b[0mrequest\u001b[0m\u001b[0;34m,\u001b[0m \u001b[0mparent\u001b[0m\u001b[0;34m=\u001b[0m\u001b[0mparent\u001b[0m\u001b[0;34m,\u001b[0m \u001b[0mexpect_reply\u001b[0m\u001b[0;34m=\u001b[0m\u001b[0;32mTrue\u001b[0m\u001b[0;34m\u001b[0m\u001b[0;34m\u001b[0m\u001b[0m\n\u001b[1;32m    175\u001b[0m   )\n\u001b[0;32m--> 176\u001b[0;31m   \u001b[0;32mreturn\u001b[0m \u001b[0mread_reply_from_input\u001b[0m\u001b[0;34m(\u001b[0m\u001b[0mrequest_id\u001b[0m\u001b[0;34m,\u001b[0m \u001b[0mtimeout_sec\u001b[0m\u001b[0;34m)\u001b[0m\u001b[0;34m\u001b[0m\u001b[0;34m\u001b[0m\u001b[0m\n\u001b[0m",
            "\u001b[0;32m/usr/local/lib/python3.11/dist-packages/google/colab/_message.py\u001b[0m in \u001b[0;36mread_reply_from_input\u001b[0;34m(message_id, timeout_sec)\u001b[0m\n\u001b[1;32m    101\u001b[0m     ):\n\u001b[1;32m    102\u001b[0m       \u001b[0;32mif\u001b[0m \u001b[0;34m'error'\u001b[0m \u001b[0;32min\u001b[0m \u001b[0mreply\u001b[0m\u001b[0;34m:\u001b[0m\u001b[0;34m\u001b[0m\u001b[0;34m\u001b[0m\u001b[0m\n\u001b[0;32m--> 103\u001b[0;31m         \u001b[0;32mraise\u001b[0m \u001b[0mMessageError\u001b[0m\u001b[0;34m(\u001b[0m\u001b[0mreply\u001b[0m\u001b[0;34m[\u001b[0m\u001b[0;34m'error'\u001b[0m\u001b[0;34m]\u001b[0m\u001b[0;34m)\u001b[0m\u001b[0;34m\u001b[0m\u001b[0;34m\u001b[0m\u001b[0m\n\u001b[0m\u001b[1;32m    104\u001b[0m       \u001b[0;32mreturn\u001b[0m \u001b[0mreply\u001b[0m\u001b[0;34m.\u001b[0m\u001b[0mget\u001b[0m\u001b[0;34m(\u001b[0m\u001b[0;34m'data'\u001b[0m\u001b[0;34m,\u001b[0m \u001b[0;32mNone\u001b[0m\u001b[0;34m)\u001b[0m\u001b[0;34m\u001b[0m\u001b[0;34m\u001b[0m\u001b[0m\n\u001b[1;32m    105\u001b[0m \u001b[0;34m\u001b[0m\u001b[0m\n",
            "\u001b[0;31mMessageError\u001b[0m: Error: credential propagation was unsuccessful"
          ]
        }
      ],
      "source": [
        "from google.colab import drive\n",
        "drive.mount('/content/drive')"
      ]
    },
    {
      "cell_type": "markdown",
      "metadata": {
        "id": "wDyMMSMUJH0f"
      },
      "source": [
        "5. Create a list and tuple in Python, and demonstrate how attempting to change an element works differently\n",
        "for each."
      ]
    },
    {
      "cell_type": "markdown",
      "metadata": {
        "id": "YTSCTtF0KFvA"
      },
      "source": [
        "# List:-"
      ]
    },
    {
      "cell_type": "code",
      "execution_count": 13,
      "metadata": {
        "id": "xQC0oqgqIDkB"
      },
      "outputs": [],
      "source": [
        "my_list = [20, 30, 50]\n",
        "my_list[1] = 96"
      ]
    },
    {
      "cell_type": "markdown",
      "metadata": {
        "id": "dCqk1dJjKQSA"
      },
      "source": [
        "# Tuple"
      ]
    },
    {
      "cell_type": "code",
      "execution_count": 16,
      "metadata": {
        "colab": {
          "base_uri": "https://localhost:8080/",
          "height": 159
        },
        "id": "Y-CWQTYtKV-B",
        "outputId": "2e0aaeeb-0bc1-4660-8d99-8b5c03c5b152"
      },
      "outputs": [
        {
          "ename": "TypeError",
          "evalue": "'tuple' object does not support item assignment",
          "output_type": "error",
          "traceback": [
            "\u001b[0;31m---------------------------------------------------------------------------\u001b[0m",
            "\u001b[0;31mTypeError\u001b[0m                                 Traceback (most recent call last)",
            "\u001b[0;32m/tmp/ipython-input-16-1809695895.py\u001b[0m in \u001b[0;36m<cell line: 0>\u001b[0;34m()\u001b[0m\n\u001b[1;32m      1\u001b[0m \u001b[0mmy_tuple\u001b[0m \u001b[0;34m=\u001b[0m \u001b[0;34m(\u001b[0m\u001b[0;36m20\u001b[0m\u001b[0;34m,\u001b[0m \u001b[0;36m30\u001b[0m\u001b[0;34m,\u001b[0m\u001b[0;36m50\u001b[0m\u001b[0;34m)\u001b[0m\u001b[0;34m\u001b[0m\u001b[0;34m\u001b[0m\u001b[0m\n\u001b[0;32m----> 2\u001b[0;31m \u001b[0mmy_tuple\u001b[0m\u001b[0;34m[\u001b[0m\u001b[0;36m1\u001b[0m\u001b[0;34m]\u001b[0m \u001b[0;34m=\u001b[0m \u001b[0;36m96\u001b[0m\u001b[0;34m\u001b[0m\u001b[0;34m\u001b[0m\u001b[0m\n\u001b[0m",
            "\u001b[0;31mTypeError\u001b[0m: 'tuple' object does not support item assignment"
          ]
        }
      ],
      "source": [
        "my_tuple = (20, 30,50)\n",
        "my_tuple[1] = 96"
      ]
    },
    {
      "cell_type": "markdown",
      "metadata": {
        "id": "x7Scp1CNKrka"
      },
      "source": [
        "##Explanation:\n",
        "\n",
        "Lists are mutable, so you can change, add, or remove items.\n",
        "\n",
        "Tuples are immutable, so trying to change any item will result in a TypeError.\n",
        "\n",
        "If you run the code above, the list will update successfully, but the tuple will give an error like:"
      ]
    },
    {
      "cell_type": "code",
      "execution_count": 17,
      "metadata": {
        "id": "bUbFTNrDKlFo"
      },
      "outputs": [],
      "source": [
        "my_tuple= (20,30,50)\n",
        "my_tuple[1]= 96\n"
      ]
    },
    {
      "cell_type": "markdown",
      "metadata": {
        "id": "jng5kj5iLE8s"
      },
      "source": [
        "6. Write a function to demonstrate the behavior of mutable and immutable arguments."
      ]
    },
    {
      "cell_type": "markdown",
      "metadata": {
        "id": "jSw3r1wWM4Ux"
      },
      "source": [
        "-  In Python, some data types like list are mutable, which means their values can change inside a function. But others like int or string are immutable, so their values don’t change even if we try to modify them in a function.\n",
        "\n",
        "\n",
        "Here’s a small example to show the difference:"
      ]
    },
    {
      "cell_type": "code",
      "execution_count": null,
      "metadata": {
        "id": "MhphrQdILycC"
      },
      "outputs": [],
      "source": [
        "def test(a, b):\n",
        "    a += 5\n",
        "    b.append(10)"
      ]
    },
    {
      "cell_type": "markdown",
      "metadata": {
        "id": "_zG7UoHeNSal"
      },
      "source": [
        "- If a is an integer like 10, it won’t change outside the function. But if b is a list like [1, 2, 3], it will become [1, 2, 3, 10] after the function.\n",
        "\n",
        "This shows that integers are immutable (they stay the same), and lists are mutable (they get modified inside the function)."
      ]
    },
    {
      "cell_type": "markdown",
      "metadata": {
        "id": "idEdgKeQNY_u"
      },
      "source": [
        "7. Write a program that performs basic arithmetic operations on two user-input numbers.\n"
      ]
    },
    {
      "cell_type": "markdown",
      "metadata": {
        "id": "ij6YYATAN4nG"
      },
      "source": [
        "Here is a Python program that takes two numbers from the user and then does addition, subtraction, multiplication, and division:"
      ]
    },
    {
      "cell_type": "code",
      "execution_count": null,
      "metadata": {
        "id": "Vyik9SRtNj79"
      },
      "outputs": [],
      "source": [
        "a = float(input(\"Enter first number: \"))\n",
        "b = float(input(\"Enter second number: \"))\n",
        "\n",
        "print(\"Addition is:\", a + b)\n",
        "print(\"Subtraction is:\", a - b)\n",
        "print(\"Multiplication is:\", a * b)\n",
        "\n",
        "if b != 0:\n",
        "    print(\"Division is:\", a / b)\n",
        "else:\n",
        "    print(\"Cannot divide by zero\")\n"
      ]
    },
    {
      "cell_type": "markdown",
      "metadata": {
        "id": "ESPRgGGWO4IP"
      },
      "source": [
        "###Explanation:\n",
        "\n",
        "I took two numbers from the user.\n",
        "\n",
        "Then I printed the result of all four operations.\n",
        "\n",
        "For division, I added a check to make sure we don't divide by zero"
      ]
    },
    {
      "cell_type": "markdown",
      "metadata": {
        "id": "r5eT-MVLO9cp"
      },
      "source": [
        "8. Write a program to demonstrate the use of logical operators."
      ]
    },
    {
      "cell_type": "code",
      "execution_count": null,
      "metadata": {
        "id": "wvNiiSLKOV4E"
      },
      "outputs": [],
      "source": [
        "a = 8\n",
        "b = 5\n",
        "c = 10\n",
        "\n",
        "# using and operator\n",
        "print(\"a > b and a < c:\", a > b and a < c)\n",
        "\n",
        "# using or operator\n",
        "print(\"a < b or a < c:\", a < b or a < c)\n",
        "\n",
        "# using not operator\n",
        "print(\"not(a > b):\", not(a > b))\n"
      ]
    },
    {
      "cell_type": "markdown",
      "metadata": {
        "id": "26Z_u_xaPqtl"
      },
      "source": [
        "## Because"
      ]
    },
    {
      "cell_type": "markdown",
      "metadata": {
        "id": "QibpS4EXP6qX"
      },
      "source": [
        "and gives True only if both conditions are true.\n",
        "\n",
        "or gives True if at least one condition is true.\n",
        "\n",
        "not reverses the result — if it's True, it becomes False.\n",
        "\n"
      ]
    },
    {
      "cell_type": "markdown",
      "metadata": {
        "id": "AeXZiMmeP9Vy"
      },
      "source": [
        "9. Write a Python program to convert user input from string to integer, float, and boolean types."
      ]
    },
    {
      "cell_type": "markdown",
      "metadata": {
        "id": "OJa_9kMcQNac"
      },
      "source": []
    },
    {
      "cell_type": "code",
      "execution_count": null,
      "metadata": {
        "id": "ytAvRbCSQ9ru"
      },
      "outputs": [],
      "source": [
        "# Taking input from the user\n",
        "user_input = input(\"Enter something: \")\n",
        "\n",
        "# Converting to integer\n",
        "try:\n",
        "    int_value = int(user_input)\n",
        "    print(\"Integer value:\", int_value)\n",
        "except:\n",
        "    print(\"Cannot convert to integer.\")\n",
        "\n",
        "# Converting to float\n",
        "try:\n",
        "    float_value = float(user_input)\n",
        "    print(\"Float value:\", float_value)\n",
        "except:\n",
        "    print(\"Cannot convert to float.\")\n",
        "\n",
        "# Converting to boolean\n",
        "bool_value = bool(user_input)\n",
        "print(\"Boolean value:\", bool_value)\n"
      ]
    },
    {
      "cell_type": "markdown",
      "metadata": {
        "id": "izyoXiFtRuxS"
      },
      "source": [
        "10. Write code to demonstrate type casting with list elements.\n"
      ]
    },
    {
      "cell_type": "code",
      "execution_count": null,
      "metadata": {
        "id": "G84tFETDP5Yr"
      },
      "outputs": [],
      "source": [
        "my_list = [\"10\", \"20\", \"30\"]\n",
        "\n",
        "int_list = [int(x) for x in my_list]\n",
        "float_list = [float(x) for x in int_list]\n",
        "\n",
        "print(\"Original list:\", my_list)\n",
        "print(\"As integers:\", int_list)\n",
        "print(\"As floats:\", float_list)\n"
      ]
    },
    {
      "cell_type": "markdown",
      "metadata": {
        "id": "LFUGNSyPSHOm"
      },
      "source": [
        "11. Write a program that checks if a number is positive, negative, or zero.\n"
      ]
    },
    {
      "cell_type": "code",
      "execution_count": null,
      "metadata": {
        "id": "-1z1DEP0R-M-"
      },
      "outputs": [],
      "source": [
        "num = float(input(\"Enter a number: \"))\n",
        "\n",
        "if num > 0:\n",
        "    print(\"The number is positive.\")\n",
        "elif num < 0:\n",
        "    print(\"The number is negative.\")\n",
        "else:\n",
        "    print(\"The number is zero.\")\n"
      ]
    },
    {
      "cell_type": "markdown",
      "metadata": {
        "id": "Q8SjQw6CTV4i"
      },
      "source": [
        "12. Write a for loop to print numbers from 1 to 10.\n"
      ]
    },
    {
      "cell_type": "code",
      "execution_count": null,
      "metadata": {
        "id": "dDBoPTJDSQw1"
      },
      "outputs": [],
      "source": [
        "for i in range(1, 11):\n",
        "    print(i)\n"
      ]
    },
    {
      "cell_type": "markdown",
      "metadata": {
        "id": "Obsjw1D8TVZi"
      },
      "source": [
        "13. Write a Python program to find the sum of all even numbers between 1 and 50."
      ]
    },
    {
      "cell_type": "code",
      "execution_count": null,
      "metadata": {
        "id": "M8eFtKITUBtV"
      },
      "outputs": [],
      "source": [
        "sum = 0\n",
        "\n",
        "for i in range(1, 51):\n",
        "    if i % 2 == 0:\n",
        "        sum = sum + i\n",
        "\n",
        "print(\"Sum of even numbers from 1 to 50 is:\", sum)\n"
      ]
    },
    {
      "cell_type": "markdown",
      "metadata": {
        "id": "eRkNr3woUE9t"
      },
      "source": [
        "14. Write a program to reverse a string using a while loop."
      ]
    },
    {
      "cell_type": "code",
      "execution_count": null,
      "metadata": {
        "id": "cP4R1Yv3UbPK"
      },
      "outputs": [],
      "source": [
        "text = input(\"Enter a word: \")\n",
        "i = -1\n",
        "reverse = \"\"\n",
        "\n",
        "while i >= -len(text):\n",
        "    reverse = reverse + text[i]\n",
        "    i = i - 1\n",
        "\n",
        "print(\"Reversed word is:\", reverse)\n"
      ]
    },
    {
      "cell_type": "code",
      "execution_count": null,
      "metadata": {
        "id": "rrfn31vKUel5"
      },
      "outputs": [],
      "source": [
        "print('Reservesd word is',reverse)"
      ]
    },
    {
      "cell_type": "markdown",
      "metadata": {
        "id": "aE8d1d7eVKo9"
      },
      "source": [
        "15. Write a Python program to calculate the factorial of a number provided by the user using a while loop."
      ]
    },
    {
      "cell_type": "code",
      "execution_count": null,
      "metadata": {
        "id": "Akb49ryZVRBZ"
      },
      "outputs": [],
      "source": [
        "num = int(input(\"Enter a number: \"))\n",
        "fact = 3\n",
        "i = 3\n",
        "\n",
        "while i <= num:\n",
        "    fact = fact * 3\n",
        "    i = i + 3\n",
        "\n",
        "print(\"Factorial is:\", fact)\n"
      ]
    },
    {
      "cell_type": "code",
      "execution_count": null,
      "metadata": {
        "id": "gk37bPrvVbzk"
      },
      "outputs": [],
      "source": [
        "print(\"Factorial is\", +fact)\n"
      ]
    },
    {
      "cell_type": "markdown",
      "metadata": {
        "id": "VgJupKDTV6Ck"
      },
      "source": [
        "##Thank you sir i love these ***classes***"
      ]
    }
  ],
  "metadata": {
    "colab": {
      "provenance": []
    },
    "kernelspec": {
      "display_name": "Python 3",
      "name": "python3"
    },
    "language_info": {
      "name": "python"
    }
  },
  "nbformat": 4,
  "nbformat_minor": 0
}
